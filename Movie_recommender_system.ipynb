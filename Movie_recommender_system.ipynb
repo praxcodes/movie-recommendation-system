{
  "nbformat": 4,
  "nbformat_minor": 0,
  "metadata": {
    "colab": {
      "name": "Machine learning",
      "provenance": []
    },
    "kernelspec": {
      "name": "python3",
      "display_name": "Python 3"
    },
    "language_info": {
      "name": "python"
    }
  },
  "cells": [
    {
      "cell_type": "code",
      "execution_count": null,
      "metadata": {
        "id": "nahInEGRlxF_"
      },
      "outputs": [],
      "source": [
        "import numpy as np\n",
        "import pandas as pd\n",
        "import ast"
      ]
    },
    {
      "cell_type": "code",
      "source": [
        "movies=pd.read_csv('/content/drive/MyDrive/Colab Notebooks/movies.csv')\n",
        "credits=pd.read_csv('/content/drive/MyDrive/Colab Notebooks/credits.csv')"
      ],
      "metadata": {
        "id": "1NJAjGGJmjX9"
      },
      "execution_count": null,
      "outputs": []
    },
    {
      "cell_type": "code",
      "source": [
        "credits.head()"
      ],
      "metadata": {
        "id": "JIWOBqlEmngi"
      },
      "execution_count": null,
      "outputs": []
    },
    {
      "cell_type": "code",
      "source": [
        "movies.head()"
      ],
      "metadata": {
        "id": "_obwtBiXxb3g"
      },
      "execution_count": null,
      "outputs": []
    },
    {
      "cell_type": "code",
      "source": [
        "newfile=movies.merge(credits,on='title')"
      ],
      "metadata": {
        "id": "MT398pCodxi4"
      },
      "execution_count": null,
      "outputs": []
    },
    {
      "cell_type": "code",
      "source": [
        "from google.colab import drive\n",
        "drive.mount('/content/drive')"
      ],
      "metadata": {
        "id": "nndaKlWX6Ap-",
        "colab": {
          "base_uri": "https://localhost:8080/"
        },
        "outputId": "7b51ea7b-3fa1-447c-b44e-8125bb1f0532"
      },
      "execution_count": null,
      "outputs": [
        {
          "output_type": "stream",
          "name": "stdout",
          "text": [
            "Drive already mounted at /content/drive; to attempt to forcibly remount, call drive.mount(\"/content/drive\", force_remount=True).\n"
          ]
        }
      ]
    },
    {
      "cell_type": "code",
      "source": [
        "#genre\n",
        "#id\n",
        "#keywords\n",
        "#original language\n",
        "# original_title\n",
        "# popularity\n",
        "# production_comapny\n",
        "# production_countries\n",
        "# release-date(not sure)"
      ],
      "metadata": {
        "id": "-wtNKoUMW9pB"
      },
      "execution_count": null,
      "outputs": []
    },
    {
      "cell_type": "code",
      "source": [
        "newfile = newfile[['movie_id','title','overview','genres','keywords','cast','crew']]"
      ],
      "metadata": {
        "id": "rZRz1Jb7YQFE"
      },
      "execution_count": null,
      "outputs": []
    },
    {
      "cell_type": "code",
      "source": [
        "newfile.isnull().sum()"
      ],
      "metadata": {
        "id": "kXoe4byNfaSL",
        "colab": {
          "base_uri": "https://localhost:8080/"
        },
        "outputId": "508586a8-b582-4be8-bcec-990baec05e63"
      },
      "execution_count": null,
      "outputs": [
        {
          "output_type": "execute_result",
          "data": {
            "text/plain": [
              "movie_id    0\n",
              "title       0\n",
              "overview    3\n",
              "genres      0\n",
              "keywords    0\n",
              "cast        0\n",
              "crew        0\n",
              "dtype: int64"
            ]
          },
          "metadata": {},
          "execution_count": 8
        }
      ]
    },
    {
      "cell_type": "code",
      "source": [
        "newfile.dropna(inplace=True)"
      ],
      "metadata": {
        "id": "KocgRFDlfksy"
      },
      "execution_count": null,
      "outputs": []
    },
    {
      "cell_type": "code",
      "source": [
        "newfile.duplicated().sum()"
      ],
      "metadata": {
        "colab": {
          "base_uri": "https://localhost:8080/"
        },
        "id": "ninzL--WgCvD",
        "outputId": "cb27c938-139f-4c50-db94-2ff2dc1134ca"
      },
      "execution_count": null,
      "outputs": [
        {
          "output_type": "execute_result",
          "data": {
            "text/plain": [
              "0"
            ]
          },
          "metadata": {},
          "execution_count": 10
        }
      ]
    },
    {
      "cell_type": "code",
      "source": [
        "def convert(obj):\n",
        "  l=[]\n",
        "  for i in ast.literal_eval(obj):\n",
        "    l.append(i['name'])\n",
        "  return l"
      ],
      "metadata": {
        "id": "CTfSiIZlpOF5"
      },
      "execution_count": null,
      "outputs": []
    },
    {
      "cell_type": "code",
      "source": [
        "newfile['genres']=newfile['genres'].apply(convert)"
      ],
      "metadata": {
        "id": "Rmhh9_U7roXw"
      },
      "execution_count": null,
      "outputs": []
    },
    {
      "cell_type": "code",
      "source": [
        "newfile.head()"
      ],
      "metadata": {
        "id": "GwaX-yuLsVYR"
      },
      "execution_count": null,
      "outputs": []
    },
    {
      "cell_type": "code",
      "source": [
        "newfile['keywords']=newfile['keywords'].apply(convert)"
      ],
      "metadata": {
        "id": "spVxtYBes5_7"
      },
      "execution_count": null,
      "outputs": []
    },
    {
      "cell_type": "code",
      "source": [
        "def convert3(text):\n",
        "    L = []\n",
        "    counter = 0\n",
        "    for i in ast.literal_eval(text):\n",
        "        if counter < 3:\n",
        "            L.append(i['name'])\n",
        "        counter+=1\n",
        "    return L "
      ],
      "metadata": {
        "id": "yvOSWeXDtq91"
      },
      "execution_count": null,
      "outputs": []
    },
    {
      "cell_type": "code",
      "source": [
        "newfile['cast'] = newfile['cast'].apply(convert3)\n",
        "newfile.head()"
      ],
      "metadata": {
        "id": "dKTPAcTMtuab"
      },
      "execution_count": null,
      "outputs": []
    },
    {
      "cell_type": "code",
      "source": [
        "def fetch_director(text):\n",
        "    L = []\n",
        "    for i in ast.literal_eval(text):\n",
        "        if i['job'] == 'Director':\n",
        "            L.append(i['name'])\n",
        "    return L"
      ],
      "metadata": {
        "id": "wHlD5PcDu0rc"
      },
      "execution_count": null,
      "outputs": []
    },
    {
      "cell_type": "code",
      "source": [
        "newfile['crew']=newfile['crew'].apply(fetch_director)"
      ],
      "metadata": {
        "id": "vm7jBCiAu2ZC"
      },
      "execution_count": null,
      "outputs": []
    },
    {
      "cell_type": "code",
      "source": [
        "newfile['overview'] = newfile['overview'].apply(lambda x:x.split())"
      ],
      "metadata": {
        "id": "hDDixAEGvEKd"
      },
      "execution_count": null,
      "outputs": []
    },
    {
      "cell_type": "code",
      "source": [
        "newfile['genres']=newfile['genres'].apply(lambda x:[i.replace(\" \",\"\") for i in x])\n",
        "newfile['keywords']=newfile['keywords'].apply(lambda x:[i.replace(\" \",\"\") for i in x])\n",
        "newfile['cast']=newfile['cast'].apply(lambda x:[i.replace(\" \",\"\") for i in x])\n",
        "newfile['crew']=newfile['crew'].apply(lambda x:[i.replace(\" \",\"\") for i in x])"
      ],
      "metadata": {
        "id": "tCwWvX3Xwejg"
      },
      "execution_count": null,
      "outputs": []
    },
    {
      "cell_type": "code",
      "source": [
        "newfile['tags']=newfile['overview']+newfile['genres']+newfile['keywords']+newfile['cast']+newfile['crew']"
      ],
      "metadata": {
        "id": "2w-7-Wo2xjk0"
      },
      "execution_count": null,
      "outputs": []
    },
    {
      "cell_type": "code",
      "source": [
        "newdf=newfile[['movie_id','title','tags']]"
      ],
      "metadata": {
        "id": "3K3AT67cyCtV"
      },
      "execution_count": null,
      "outputs": []
    },
    {
      "cell_type": "code",
      "source": [
        "newdf['tags']=newdf['tags'].apply(lambda x:\" \".join(x))"
      ],
      "metadata": {
        "id": "DZSu8MuCyOln"
      },
      "execution_count": null,
      "outputs": []
    },
    {
      "cell_type": "code",
      "source": [
        "newdf['tags'] = newdf['tags'].apply(lambda x:x.lower())"
      ],
      "metadata": {
        "id": "L_ADtcHjzBsc"
      },
      "execution_count": null,
      "outputs": []
    },
    {
      "cell_type": "code",
      "source": [
        "newdf.head()"
      ],
      "metadata": {
        "id": "sEWNsYZPzNLV"
      },
      "execution_count": null,
      "outputs": []
    },
    {
      "cell_type": "code",
      "source": [
        "import nltk "
      ],
      "metadata": {
        "id": "1c9ATb2XoHr1"
      },
      "execution_count": null,
      "outputs": []
    },
    {
      "cell_type": "code",
      "source": [
        "from nltk.stem.porter import PorterStemmer\n",
        "ps= PorterStemmer()"
      ],
      "metadata": {
        "id": "Op4HZoCmoSmq"
      },
      "execution_count": null,
      "outputs": []
    },
    {
      "cell_type": "code",
      "source": [
        "def stem(text):\n",
        "  y=[]\n",
        "  for i in text.split():\n",
        "    y.append(ps.stem(i))\n",
        "    return \" \".join(y)"
      ],
      "metadata": {
        "id": "K3SHGbh4ogiB"
      },
      "execution_count": null,
      "outputs": []
    },
    {
      "cell_type": "code",
      "source": [
        "newdf['tags']=newdf['tags'].apply(stem)"
      ],
      "metadata": {
        "id": "2FRqsFlZpVC_"
      },
      "execution_count": null,
      "outputs": []
    },
    {
      "cell_type": "code",
      "source": [
        "from sklearn.feature_extraction.text import CountVectorizer\n",
        "cv=CountVectorizer(max_features=5000, stop_words='english')"
      ],
      "metadata": {
        "id": "tD0PEnG-lcpC"
      },
      "execution_count": null,
      "outputs": []
    },
    {
      "cell_type": "code",
      "source": [
        "vectors=cv.fit_transform(newdf['tags']).toarray()"
      ],
      "metadata": {
        "id": "yGsdVo6Qmzp0"
      },
      "execution_count": null,
      "outputs": []
    },
    {
      "cell_type": "code",
      "source": [
        "cv.get_feature_names()"
      ],
      "metadata": {
        "id": "c3rivdPYnmT8"
      },
      "execution_count": null,
      "outputs": []
    },
    {
      "cell_type": "code",
      "source": [
        "from sklearn.metrics.pairwise import cosine_similarity"
      ],
      "metadata": {
        "id": "G64gYCWBqoKZ"
      },
      "execution_count": null,
      "outputs": []
    },
    {
      "cell_type": "code",
      "source": [
        "similarity =cosine_similarity(vectors)"
      ],
      "metadata": {
        "id": "OMc8Ocp2q3GD"
      },
      "execution_count": null,
      "outputs": []
    },
    {
      "cell_type": "code",
      "source": [
        "def recommend(movie):\n",
        "  movie_index= newdf[newdf['title']==movie].index[0]\n",
        "  distances=similarity[movie_index]\n",
        "  movies_list=sorted(list(enumerate(distances)), reverse=True, key=lambda x:x[1])[1:6]\n",
        "  \n",
        "  for i in movies_list:\n",
        "    print (newdf.iloc[i[0]].title)\n"
      ],
      "metadata": {
        "id": "WFPmgBsLsM6r"
      },
      "execution_count": null,
      "outputs": []
    },
    {
      "cell_type": "code",
      "source": [
        "recommend('Quantum of Solace')"
      ],
      "metadata": {
        "id": "AdLTfnUCvKCo"
      },
      "execution_count": null,
      "outputs": []
    }
  ]
}